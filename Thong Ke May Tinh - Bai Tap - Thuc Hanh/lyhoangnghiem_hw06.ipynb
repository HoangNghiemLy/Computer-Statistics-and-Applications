{
  "cells": [
    {
      "cell_type": "markdown",
      "metadata": {
        "id": "hFLiHwjGHkVx"
      },
      "source": [
        "# MỤC TIÊU"
      ]
    },
    {
      "cell_type": "markdown",
      "metadata": {
        "id": "2zYHJ_PEHkV9"
      },
      "source": [
        "Thực hiện bài toán kiểm định 1 phía cho 2 tham số\n",
        "\n",
        "- Kỳ vọng ($\\mu$)\n",
        "- Tỷ lệ (p)"
      ]
    },
    {
      "cell_type": "markdown",
      "source": [],
      "metadata": {
        "id": "s036r27_JZHw"
      }
    },
    {
      "cell_type": "markdown",
      "metadata": {
        "id": "UDYVyMEsHkV-"
      },
      "source": [
        "# VÍ DỤ"
      ]
    },
    {
      "cell_type": "markdown",
      "metadata": {
        "id": "QiRKpRM2HkV-"
      },
      "source": [
        "## Ví dụ 1\n",
        "\n",
        "![image.png](attachment:a05ecccb-fe85-42f9-9ddb-d2e30684cefb.png)"
      ]
    },
    {
      "cell_type": "code",
      "execution_count": 6,
      "metadata": {
        "id": "KsaxxMQSHkV_"
      },
      "outputs": [],
      "source": [
        "import numpy as np\n",
        "import scipy.stats as st"
      ]
    },
    {
      "cell_type": "code",
      "execution_count": 7,
      "metadata": {
        "id": "9QklB-6ZHkWA"
      },
      "outputs": [],
      "source": [
        "freq_table = [(155, 3), (165, 9), (175, 11), (185, 3), (195, 2), (205, 1)]\n",
        "# freq_table = [(155, 3), (165, 2), (175, 1)]"
      ]
    },
    {
      "cell_type": "code",
      "execution_count": 9,
      "metadata": {
        "id": "7Dcek8ibHkWB"
      },
      "outputs": [],
      "source": [
        "data = []\n",
        "for v, f in freq_table:\n",
        "    for i in range(f):\n",
        "        data.append(v)\n",
        "\n",
        "# data"
      ]
    },
    {
      "cell_type": "code",
      "execution_count": 10,
      "metadata": {
        "id": "VutChmexHkWC",
        "outputId": "e834b3f4-43f1-41b7-f063-5a9ac65cee73",
        "colab": {
          "base_uri": "https://localhost:8080/"
        }
      },
      "outputs": [
        {
          "output_type": "stream",
          "name": "stdout",
          "text": [
            "Kich thuoc mau:  29\n",
            "Trung binh mau:  173.2759\n",
            "Do lech chuan mau:  11.9729\n"
          ]
        }
      ],
      "source": [
        "# Tinh toan cac so lieu thong ke tren mau\n",
        "\n",
        "# Kich thuoc mau\n",
        "n = len(data)\n",
        "\n",
        "# Tinh trung binh mau\n",
        "tb = round(np.mean(data), 4)\n",
        "\n",
        "# Tinh do lech chuan mau\n",
        "dlc = round(np.std(data, ddof=1), 4)\n",
        "\n",
        "print('Kich thuoc mau: ', n)\n",
        "print('Trung binh mau: ', tb)\n",
        "print('Do lech chuan mau: ', dlc)"
      ]
    },
    {
      "cell_type": "code",
      "execution_count": null,
      "metadata": {
        "id": "yNHYw0n7HkWD"
      },
      "outputs": [],
      "source": [
        "import math"
      ]
    },
    {
      "cell_type": "code",
      "execution_count": null,
      "metadata": {
        "id": "y6cmIT-LHkWE",
        "outputId": "c896655a-50ea-4d5c-a349-93e565d9089f"
      },
      "outputs": [
        {
          "data": {
            "text/plain": [
              "(168.72165240566306, 177.83014759433695)"
            ]
          },
          "execution_count": 29,
          "metadata": {},
          "output_type": "execute_result"
        }
      ],
      "source": [
        "# Cau b: Tim khoang uoc luong cho ky vong o do tin cay 95%\n",
        "st.t.interval(0.95, df=n-1, loc=tb, scale=(dlc/math.sqrt(n)))"
      ]
    },
    {
      "cell_type": "code",
      "execution_count": null,
      "metadata": {
        "id": "GCIRUDgOHkWF",
        "outputId": "b4cb349d-322c-4142-e371-26a27dc9805e"
      },
      "outputs": [
        {
          "data": {
            "text/plain": [
              "4.554238369648043"
            ]
          },
          "execution_count": 26,
          "metadata": {},
          "output_type": "execute_result"
        }
      ],
      "source": [
        "# Cau b (tinh tay)\n",
        "# Vì ta không biết giá trị của sigma (độ lệch chuẩn quần thể),\n",
        "# vì vậy, trung bình mẫu tuân theo phân phối Student\n",
        "# Ta có: sai số ước lượng:\n",
        "epsilon = st.t.isf(0.025, df=n-1) * (dlc / math.sqrt(n))\n",
        "\n",
        "epsilon"
      ]
    },
    {
      "cell_type": "code",
      "execution_count": null,
      "metadata": {
        "id": "IYSAVUUTHkWG",
        "outputId": "76578f93-ed7c-4ca9-a8a7-040a4202b45c"
      },
      "outputs": [
        {
          "name": "stdout",
          "output_type": "stream",
          "text": [
            "Khoảng ước lượng: (168.72166163035197, 177.83013836964804)\n"
          ]
        }
      ],
      "source": [
        "# Khoảng ước lượng:\n",
        "print('Khoảng ước lượng: ({0}, {1})'.format(tb-epsilon, tb+epsilon))"
      ]
    },
    {
      "cell_type": "markdown",
      "metadata": {
        "id": "AAcJosSlHkWG"
      },
      "source": [
        "__Câu c: Kiểm định__\n",
        "\n",
        "Phát biểu: \"Lượng cholesterol trung bình là 175mg%\"."
      ]
    },
    {
      "cell_type": "markdown",
      "metadata": {
        "id": "OGDXyEb8HkWG"
      },
      "source": [
        "B1: Đặt cập giả thuyết, đối thuyết\n",
        "\n",
        "Ho = $\\mu = 175$\n",
        "\n",
        "Ha = $\\mu <> 175$\n",
        "\n",
        "Giả định Ho đúng, tìm bằng chứng để thử bác bỏ Ho"
      ]
    },
    {
      "cell_type": "markdown",
      "metadata": {
        "id": "Fc-TpAGuHkWG"
      },
      "source": [
        "B2: Mức ý nghĩa của kiểm định: $\\alpha$ = 0.05\n",
        "\n",
        "B4: Xác định miền bác bỏ giả thuyết:        "
      ]
    },
    {
      "cell_type": "code",
      "execution_count": null,
      "metadata": {
        "id": "SYN3BrFHHkWH",
        "outputId": "fd3fe8ca-0e43-47e4-90f2-9cc3005dbf83"
      },
      "outputs": [
        {
          "data": {
            "text/plain": [
              "2.048407141795244"
            ]
          },
          "execution_count": 32,
          "metadata": {},
          "output_type": "execute_result"
        }
      ],
      "source": [
        "t_alpha_chia_2 = st.t.isf(0.025, df=n-1)\n",
        "t_alpha_chia_2"
      ]
    },
    {
      "cell_type": "markdown",
      "metadata": {
        "id": "INzzxTAEHkWI"
      },
      "source": [
        "Vậy miền bác bỏ của giả thuyết là: {t: |t| > 2.0484}}"
      ]
    },
    {
      "cell_type": "code",
      "execution_count": null,
      "metadata": {
        "id": "WI6341CgHkWI",
        "outputId": "a7cb5324-1027-43f7-f986-53ff8d8a03d4"
      },
      "outputs": [
        {
          "data": {
            "text/plain": [
              "-0.7754648116981316"
            ]
          },
          "execution_count": 33,
          "metadata": {},
          "output_type": "execute_result"
        }
      ],
      "source": [
        "# B3: Tính trị kiểm định:\n",
        "\n",
        "t = (tb - 175) / (dlc / math.sqrt(n))\n",
        "t"
      ]
    },
    {
      "cell_type": "markdown",
      "metadata": {
        "id": "ZKNpJy3gHkWK"
      },
      "source": [
        "B5: Kết luận\n",
        "\n",
        "t không thuộc miền bác bỏ.\n",
        "\n",
        "Vậy chấp nhận giả thuyết Ho ban đầu"
      ]
    },
    {
      "cell_type": "markdown",
      "metadata": {
        "id": "ubY6E72mHkWL"
      },
      "source": [
        "## Ví dụ 2"
      ]
    },
    {
      "cell_type": "code",
      "execution_count": null,
      "metadata": {
        "id": "oev8BVOPHkWL"
      },
      "outputs": [],
      "source": []
    },
    {
      "cell_type": "markdown",
      "metadata": {
        "id": "bYIyxlV9HkWL"
      },
      "source": [
        "# BÀI TẬP"
      ]
    },
    {
      "cell_type": "markdown",
      "metadata": {
        "id": "cfG0X_d-HkWL"
      },
      "source": [
        "## Kiểm định đặc trưng tỉ lệ (p)"
      ]
    },
    {
      "cell_type": "markdown",
      "metadata": {
        "id": "gKk4R75zHkWM"
      },
      "source": [
        "### Bài 1\n",
        "\n",
        "Dataset 18 (__M&M__) chứa thông tin trọng lượng và màu sắc của mẫu các viên kẹo của hãng M&M.\n",
        "\n",
        "Sử dụng mẫu trên bạn hãy kiểm tra phát biểu sau: __\"20% kẹo M&M có màu đỏ\"__ với mức ý nghĩa là 5%\n",
        "\n",
        "*Hướng dẫn: tính tỷ lệ các viên kẹo có màu đỏ từ dữ liệu, sử dụng kết quả để kiểm định phát biểu trên*"
      ]
    },
    {
      "cell_type": "code",
      "execution_count": 20,
      "metadata": {
        "id": "fC3byOLPHkWM",
        "outputId": "b0c4a906-9e93-432f-86dd-0f3fdd4f21c4",
        "colab": {
          "base_uri": "https://localhost:8080/"
        }
      },
      "outputs": [
        {
          "output_type": "stream",
          "name": "stdout",
          "text": [
            "Phát biểu '20% kẹo M&M có màu đỏ' không đúng với mức ý nghĩa 0.05\n"
          ]
        }
      ],
      "source": [
        "import numpy as np\n",
        "from scipy import stats\n",
        "\n",
        "# Dữ liệu màu sắc của các viên kẹo M&M\n",
        "red_data = [0.751, 0.841, 0.856, 0.799, 0.966, 0.859, 0.857, 0.942, 0.873, 0.809, 0.890, 0.878, 0.905]\n",
        "\n",
        "# Tỷ lệ trung bình của màu đỏ\n",
        "red_mean = np.mean(red_data)\n",
        "\n",
        "# Giả thuyết không: Tỷ lệ các viên kẹo có màu đỏ là 20%\n",
        "null_hypothesis = 0.20\n",
        "\n",
        "# Độ lệch chuẩn\n",
        "std_dev = np.std(red_data, ddof=1)\n",
        "\n",
        "# Kích thước mẫu\n",
        "sample_size = len(red_data)\n",
        "\n",
        "# Tính giá trị z\n",
        "z = (red_mean - null_hypothesis) / (std_dev / np.sqrt(sample_size))\n",
        "\n",
        "# Tính p-value\n",
        "p_value = 1 - stats.norm.cdf(z)\n",
        "\n",
        "# Mức ý nghĩa\n",
        "alpha = 0.05\n",
        "\n",
        "# Kiểm tra mức ý nghĩa\n",
        "if p_value < alpha:\n",
        "    print(f\"Phát biểu '20% kẹo M&M có màu đỏ' không đúng với mức ý nghĩa {alpha}\")\n",
        "else:\n",
        "    print(f\"Phát biểu '20% kẹo M&M có màu đỏ' không bị bác bỏ với mức ý nghĩa {alpha}\")\n",
        "\n",
        "\n",
        "\n",
        "\n",
        "\n",
        "\n",
        "\n"
      ]
    },
    {
      "cell_type": "markdown",
      "metadata": {
        "id": "rlgsnAQ6HkWM"
      },
      "source": [
        "### Bài 2\n",
        "\n",
        "Dataset 3 (__FRESH15__) chứa thông tin khảo sát những thay đổi về trọng lượng (weight - WT) và chỉ số khối của cơ thể (BMI) của sinh viên năm nhất tại một trường Đại Học. Thời điểm khảo sát là bắt đầu học kỳ (tháng 9 - SEP) và kết thúc học kỳ (tháng 4 - APR), các sinh viên được chọn ngẫu nhiên trong trường.\n",
        "\n",
        "Sử dụng mẫu trên, hãy kiểm tra phát biểu:__\"50% số sinh viên trong trường là nam\"__ với mức ý nghĩa 50%\n",
        "\n",
        "Các thuộc tính trong bộ dữ liệu:\n",
        "- SEX: Giới tính\n",
        "- WTSEP: trọng lượng đo vào tháng 9 (mới nhập học)\n",
        "- WTAPR: trọng lượng đo vào tháng 4 (kết thúc năm học)\n",
        "- BMISP: BMI tháng 9\n",
        "- BMIAP: BMI tháng 4"
      ]
    },
    {
      "cell_type": "code",
      "execution_count": 25,
      "metadata": {
        "id": "0x9zLqu_HkWM",
        "outputId": "8eed65d4-0a8e-4557-a402-097bfb2a2262",
        "colab": {
          "base_uri": "https://localhost:8080/"
        }
      },
      "outputs": [
        {
          "output_type": "stream",
          "name": "stdout",
          "text": [
            "Phát biểu '50% số sinh viên nam' không bị bác bỏ với mức ý nghĩa 0.05\n"
          ]
        }
      ],
      "source": [
        "import pandas as pd\n",
        "from scipy import stats\n",
        "\n",
        "# Tạo DataFrame từ dữ liệu\n",
        "pf = pd.read_excel('/content/03_FRESH15.xls')\n",
        "\n",
        "# Số lượng nam\n",
        "num_males = len(pf[pf['SEX'] == 'M'])\n",
        "\n",
        "# Tổng số sinh viên\n",
        "total_students = len(pf)\n",
        "\n",
        "# Tỷ lệ nam\n",
        "male_ratio = num_males / total_students\n",
        "\n",
        "# Giả thuyết không: Tỷ lệ nam là 50%\n",
        "null_hypothesis = 0.50\n",
        "\n",
        "# Độ lệch chuẩn ước tính cho tỷ lệ nam\n",
        "std_error = np.sqrt(male_ratio * (1 - male_ratio) / total_students)\n",
        "\n",
        "# Tính giá trị z\n",
        "z = (male_ratio - null_hypothesis) / std_error\n",
        "\n",
        "# Tính p-value\n",
        "p_value = 2 * (1 - stats.norm.cdf(abs(z)))  # Nhân với 2 vì đây là kiểm định 2 đuôi\n",
        "\n",
        "# Mức ý nghĩa\n",
        "alpha = 0.05\n",
        "\n",
        "# Kiểm tra mức ý nghĩa\n",
        "if p_value < alpha:\n",
        "    print(f\"Phát biểu '50% số sinh viên nam' không đúng với mức ý nghĩa {alpha}\")\n",
        "else:\n",
        "    print(f\"Phát biểu '50% số sinh viên nam' không bị bác bỏ với mức ý nghĩa {alpha}\")\n",
        "\n",
        "\n"
      ]
    },
    {
      "cell_type": "markdown",
      "metadata": {
        "id": "q4bqE8qaHkWN"
      },
      "source": [
        "### Bài 3\n",
        "\n",
        "Dataset 6(__BEARS__) chứa thông tin khảo sát ngẫu nhiên các con gấu trong một khu rừng.\n",
        "\n",
        "Sử dụng mẫu trên, bạn hãy kiểm tra phát biểu: __\"tỷ lệ gấu đực trong khu rừng là 50%\"\"__ với mức ý nghĩa 90%.\n",
        "\n",
        "Biết rằng thuộc tính SEX có hai giá trị: 1 - gấu đực, 2- gấu cái."
      ]
    },
    {
      "cell_type": "code",
      "execution_count": null,
      "metadata": {
        "id": "ciu_XTY_HkWO"
      },
      "outputs": [],
      "source": []
    },
    {
      "cell_type": "markdown",
      "metadata": {
        "id": "6U2-z1fHHkWO"
      },
      "source": [
        "### Bài 4\n",
        "\n",
        "Dataset 9 __(MOVIES)__ chứa thông tin khảo sát một số phim trong khoảng thời gian 33 năm gần đây.\n",
        "\n",
        "Có ý kiến cho rằng: __\"55% các phim trong khoảng thời gian 33 năm gần đây có nhãn R (là phim giới hạn độ tuổi - Restricted)\"__ .Theo bạn với mức ý nghĩa 95% ý kiến trên có đúng không?\n",
        "\n",
        "Tham khảo: [Hệ thống phân loại của hiệp hội điện ảnh Mỹ](https://vi.wikipedia.org/wiki/H%E1%BB%87_th%E1%BB%91ng_ph%C3%A2n_lo%E1%BA%A1i_phim_c%E1%BB%A7a_MPAA#Ph%C3%A2n_lo%E1%BA%A1i_v%E1%BB%9Bi_c%C3%A1c_trailer_phim)"
      ]
    },
    {
      "cell_type": "markdown",
      "metadata": {
        "id": "s3y3Wd8-HkWO"
      },
      "source": [
        "## Kiểm định đặc trưng kỳ vọng ($\\mu$) biết ($\\sigma$)"
      ]
    },
    {
      "cell_type": "markdown",
      "metadata": {
        "id": "EdyNJ9dNHkWP"
      },
      "source": [
        "### Bài 5\n",
        "\n",
        "Dataset 13 __(VOLTAGE)__ liệt kê các mức điện áp được đo tại các hộ gia đình bởi các máy đo khác nhau: tại nhà (HOME), tại máy phát độc lập (Generator), tại trạm phát (UPS).\n",
        "\n",
        "Công ty cung cấp điện cho vùng này cam kết rằng: __\"Mục tiêu cung cấp điện cho mỗi hộ gia đình là 120V\"__ . Biết rằng độ lệch chuẩn của tất cả các mức điện áp đo được là 0.24V.\n",
        "\n",
        "Với mức ý nghĩa 1%. Bạn hãy kiểm tra xem công ty có làm đúng cam kết hay không?\n",
        "\n",
        "Hướng dẫn: Tính múc điện áp trung bình tại nhà (HOME), và sử dụng để kiểm định cam kết"
      ]
    },
    {
      "cell_type": "code",
      "execution_count": 27,
      "metadata": {
        "id": "WzC27X_FHkWP",
        "outputId": "a2fd1a8c-c0ae-4472-c1c7-5dc8b50ac894",
        "colab": {
          "base_uri": "https://localhost:8080/"
        }
      },
      "outputs": [
        {
          "output_type": "stream",
          "name": "stdout",
          "text": [
            "Công ty không làm đúng cam kết với mức ý nghĩa 0.01\n"
          ]
        }
      ],
      "source": [
        "import numpy as np\n",
        "from scipy import stats\n",
        "\n",
        "# Dữ liệu mức điện áp tại nhà (HOME)\n",
        "voltage_data_home = [\n",
        "    123.8, 123.9, 123.9, 123.3, 123.4, 123.3, 123.3, 123.6, 123.5, 123.5,\n",
        "    123.5, 123.7, 123.6, 123.7, 123.9, 124.0, 124.2, 123.9, 123.8, 123.8,\n",
        "    124.0, 123.9, 123.6, 123.5, 123.4, 123.4, 123.4, 123.4, 123.3, 123.3,\n",
        "    123.5, 123.6, 123.8, 123.9, 123.9, 123.9, 123.8, 123.9, 123.7, 123.8,\n",
        "    123.8, 123.8\n",
        "]\n",
        "\n",
        "# Cam kết của công ty\n",
        "target_voltage = 120  # 120V\n",
        "\n",
        "# Độ lệch chuẩn của mức điện áp đo được\n",
        "std_dev = 0.24\n",
        "\n",
        "# Tính mức điện áp trung bình tại nhà\n",
        "mean_voltage_home = np.mean(voltage_data_home)\n",
        "\n",
        "# Số lượng mẫu\n",
        "n = len(voltage_data_home)\n",
        "\n",
        "# Tính giá trị z-score\n",
        "z_score = (mean_voltage_home - target_voltage) / (std_dev / np.sqrt(n))\n",
        "\n",
        "# Tính p-value\n",
        "p_value = 2 * (1 - stats.norm.cdf(abs(z_score)))  # Nhân với 2 vì đây là kiểm định 2 đuôi\n",
        "\n",
        "# Mức ý nghĩa\n",
        "alpha = 0.01  # 1%\n",
        "\n",
        "# Kiểm tra mức ý nghĩa\n",
        "if p_value < alpha:\n",
        "    print(f\"Công ty không làm đúng cam kết với mức ý nghĩa {alpha}\")\n",
        "else:\n",
        "    print(f\"Công ty làm đúng cam kết với mức ý nghĩa {alpha}\")\n",
        "\n"
      ]
    },
    {
      "cell_type": "markdown",
      "metadata": {
        "id": "IgMqjExFHkWP"
      },
      "source": [
        "## Kiểm định đặc trưng kỳ vọng ($\\mu$) không biết ($\\sigma$)"
      ]
    },
    {
      "cell_type": "markdown",
      "metadata": {
        "id": "z0f_DLYcHkWP"
      },
      "source": [
        "### Bài 6\n",
        "\n",
        "Dataset 13 __(VOLTAGE)__ liệt kê các mức điện áp được đo tại các hộ gia đình bởi các máy đo khác nhau: tại nhà (HOME), tại máy phát độc lập (Generator), tại trạm phát (UPS).\n",
        "\n",
        "Công ty cung cấp điện cho vùng này cam kết rằng: __\"Mục tiêu cung cấp điện cho mỗi hộ gia đình là 120V\"__ .\n",
        "\n",
        "Với mức ý nghĩa 1%. Bạn hãy kiểm tra xem công ty có làm đúng cam kết hay không?"
      ]
    },
    {
      "cell_type": "code",
      "source": [
        "import numpy as np\n",
        "from scipy import stats\n",
        "\n",
        "# Dữ liệu mức điện áp tại các hộ gia đình (các cột: HOME, Generator, UPS)\n",
        "voltage_data = [\n",
        "    [123.8, 124.8, 123.1],\n",
        "    [123.9, 124.3, 123.1],\n",
        "    [123.9, 125.2, 123.6],\n",
        "    [123.3, 124.5, 123.6],\n",
        "    [123.4, 125.1, 123.6],\n",
        "    [123.3, 124.8, 123.7],\n",
        "    [123.3, 125.1, 123.7],\n",
        "    [123.6, 125.0, 123.6],\n",
        "    [123.5, 124.8, 123.6],\n",
        "    [123.5, 124.7, 123.8],\n",
        "    [123.5, 124.5, 123.7],\n",
        "    [123.7, 125.2, 123.8],\n",
        "    [123.6, 124.4, 123.5],\n",
        "    [123.7, 124.7, 123.7],\n",
        "    [123.9, 124.9, 123.0],\n",
        "    [124.0, 124.5, 123.8],\n",
        "    [124.2, 124.8, 123.8],\n",
        "    [123.9, 124.8, 123.1],\n",
        "    [123.8, 124.5, 123.7],\n",
        "    [123.8, 124.6, 123.7],\n",
        "    [124.0, 125.0, 123.8],\n",
        "    [123.9, 124.7, 123.8],\n",
        "    [123.6, 124.9, 123.7],\n",
        "    [123.5, 124.9, 123.8],\n",
        "    [123.4, 124.7, 123.7],\n",
        "    [123.4, 124.2, 123.8],\n",
        "    [123.4, 124.7, 123.8],\n",
        "    [123.4, 124.8, 123.8],\n",
        "    [123.3, 124.4, 123.9],\n",
        "    [123.3, 124.6, 123.8],\n",
        "    [123.5, 124.4, 123.9],\n",
        "    [123.6, 124.0, 123.9],\n",
        "    [123.8, 124.7, 123.9],\n",
        "    [123.9, 124.4, 123.9],\n",
        "    [123.9, 124.6, 123.6],\n",
        "    [123.8, 124.6, 123.2],\n",
        "    [123.9, 124.6, 123.1],\n",
        "    [123.7, 124.8, 123.0],\n",
        "    [123.8, 124.3, 122.9],\n",
        "    [123.8, 124.0, 123.0]\n",
        "]\n",
        "\n",
        "# Cam kết của công ty\n",
        "target_voltage = 120  # 120V\n",
        "\n",
        "# Số lượng mẫu\n",
        "n = len(voltage_data)\n",
        "\n",
        "# Tính mức điện áp trung bình tại tất cả các hộ gia đình\n",
        "mean_voltage_all = np.mean(voltage_data)\n",
        "\n",
        "# Tính độ lệch chuẩn của mức điện áp đo được\n",
        "std_dev = np.std(voltage_data, ddof=1)  # ddof=1 cho phép tính độ lệch chuẩn mẫu\n",
        "\n",
        "# Tính giá trị t-statistic\n",
        "t_statistic = (mean_voltage_all - target_voltage) / (std_dev / np.sqrt(n))\n",
        "\n",
        "# Tính p-value\n",
        "p_value = 2 * (1 - stats.t.cdf(abs(t_statistic), df=n - 1))  # Nhân với 2 vì đây là kiểm định 2 đuôi\n",
        "\n",
        "# Mức ý nghĩa\n",
        "alpha = 0.01  # 1%\n",
        "\n",
        "# Kiểm tra mức ý nghĩa\n",
        "if p_value < alpha:\n",
        "    print(f\"Công ty không làm đúng cam kết với mức ý nghĩa {alpha}\")\n",
        "else:\n",
        "    print(f\"Công ty làm đúng cam kết với mức ý nghĩa {alpha}\")\n",
        "\n"
      ],
      "metadata": {
        "id": "Y4nWruF6V8c5",
        "outputId": "394f33de-af47-41e2-f930-16ce4be74c39",
        "colab": {
          "base_uri": "https://localhost:8080/"
        }
      },
      "execution_count": 32,
      "outputs": [
        {
          "output_type": "stream",
          "name": "stdout",
          "text": [
            "Công ty không làm đúng cam kết với mức ý nghĩa 0.01\n"
          ]
        }
      ]
    },
    {
      "cell_type": "markdown",
      "metadata": {
        "id": "067eCxl2HkWP"
      },
      "source": [
        "### Bài 7\n",
        "\n",
        "Dataset 2 __(BODYTEMP)__ chứa thông tin khảo sát nhiệt độ cơ thể từ một nhóm người vào cùng một thời điểm lúc 12h trưa.\n",
        "\n",
        "Có một phát biểu nói rằng, nhiệt độ cơ thể người đo lúc 12h trưa trong quần thể này là 98,6°\n",
        "\n",
        "Dựa vào mẫu trên, bạn hãy cho biết phát biểu trên đúng hay sai ở mức ý nghĩa là 5%."
      ]
    },
    {
      "cell_type": "code",
      "execution_count": 33,
      "metadata": {
        "id": "2Y3jKHiPHkWQ",
        "outputId": "74302f91-7d91-4406-9161-54345247fe63",
        "colab": {
          "base_uri": "https://localhost:8080/"
        }
      },
      "outputs": [
        {
          "output_type": "stream",
          "name": "stdout",
          "text": [
            "Phát biểu sai ở mức ý nghĩa 0.05\n"
          ]
        }
      ],
      "source": [
        "import numpy as np\n",
        "from scipy import stats\n",
        "\n",
        "# Dữ liệu nhiệt độ cơ thể\n",
        "body_temp_data = [\n",
        "    98.6, 98.6, 98.0, 98.0, 99.0, 98.4, 98.4, 98.4, 98.4, 98.6,\n",
        "    98.6, 98.8, 98.6, 97.0, 97.0, 98.8, 97.6, 97.7, 98.8, 98.0,\n",
        "    98.0, 98.3, 98.5, 97.3, 98.7, 97.4, 98.9, 98.6, 99.5, 97.5,\n",
        "    97.3, 97.6, 98.2, 99.6, 98.7, 99.4, 98.2, 98.0, 98.6, 98.6,\n",
        "    97.2, 98.4, 98.6, 98.2, 98.0, 97.8, 98.0, 98.4, 98.6, 98.6,\n",
        "    97.8, 99.0, 96.5, 97.6, 98.0, 96.9, 97.6, 97.1, 97.9, 98.4,\n",
        "    97.3, 98.0, 97.5, 97.6, 98.2, 98.5, 98.8, 98.7, 97.8, 98.0,\n",
        "    97.1, 97.4, 99.4, 98.4, 98.6, 98.4, 98.5, 98.6, 98.3, 98.7,\n",
        "    98.8, 99.1, 98.6, 97.9, 98.8, 98.0, 98.7, 98.5, 98.9, 98.4,\n",
        "    98.6, 97.1, 97.9, 98.8, 98.7, 97.6, 98.2, 99.2, 97.8, 98.0,\n",
        "    98.4, 97.8, 98.4, 97.4, 98.0, 97.0\n",
        "]\n",
        "\n",
        "# Giá trị tham chiếu\n",
        "reference_temp = 98.6  # Giá trị tham chiếu là 98.6°F\n",
        "\n",
        "# Tính kiểm định t-test một mẫu\n",
        "t_statistic, p_value = stats.ttest_1samp(body_temp_data, reference_temp)\n",
        "\n",
        "# Mức ý nghĩa\n",
        "alpha = 0.05  # 5%\n",
        "\n",
        "# Kiểm tra mức ý nghĩa\n",
        "if p_value < alpha:\n",
        "    print(f\"Phát biểu sai ở mức ý nghĩa {alpha}\")\n",
        "else:\n",
        "    print(f\"Phát biểu đúng ở mức ý nghĩa {alpha}\")\n"
      ]
    },
    {
      "cell_type": "markdown",
      "metadata": {
        "id": "nfHJerOrHkWQ"
      },
      "source": [
        "### Bài 8\n",
        "\n",
        "__FICO Score__ là đại lượng dùng để đo khả năng tín dụng của một cá nhân hoặc một tập thể. Sử dụng FICO Score, ngân hàng có thể quyết định xem có nên cho khách hàng mượn tiền hay không?\n",
        "\n",
        "Dataset 24 __(FICO)__ chứa thông tin điểm tín dụng (FICO Score) của một số cá nhân trong vùng.\n",
        "\n",
        "Sử dụng dữ liệu mẫu từ, bạn hãy cho biết ý kiến: __\"điểm tín dùng trung bình của quần thể là 678\"__ là đúng hay sai với mức ý nghĩa 5%"
      ]
    },
    {
      "cell_type": "code",
      "execution_count": 34,
      "metadata": {
        "id": "CY6QZHvaHkWQ",
        "outputId": "2df3d679-a8bf-44d6-e1b7-31636dad2872",
        "colab": {
          "base_uri": "https://localhost:8080/"
        }
      },
      "outputs": [
        {
          "output_type": "stream",
          "name": "stdout",
          "text": [
            "Phát biểu sai ở mức ý nghĩa 0.05\n"
          ]
        }
      ],
      "source": [
        "import numpy as np\n",
        "from scipy import stats\n",
        "\n",
        "# Dữ liệu FICO Score\n",
        "fico_scores = [\n",
        "    708, 713, 781, 809, 797, 793, 711, 681, 768, 611,\n",
        "    698, 836, 768, 532, 657, 559, 741, 792, 701, 753,\n",
        "    745, 681, 598, 693, 743, 444, 502, 739, 755, 835,\n",
        "    714, 517, 787, 714, 497, 636, 637, 797, 568, 714,\n",
        "    618, 830, 579, 818, 654, 617, 849, 798, 751, 731,\n",
        "    850, 591, 802, 756, 689, 789, 628, 692, 779, 756,\n",
        "    782, 760, 503, 784, 591, 834, 694, 795, 660, 651,\n",
        "    696, 638, 635, 795, 519, 682, 824, 603, 709, 777,\n",
        "    829, 744, 752, 783, 630, 753, 661, 604, 729, 722,\n",
        "    706, 594, 664, 782, 579, 796, 611, 709, 697, 732\n",
        "]\n",
        "\n",
        "# Giá trị tham chiếu\n",
        "reference_value = 678  # Giá trị tham chiếu là 678\n",
        "\n",
        "# Tính kiểm định t-test một mẫu\n",
        "t_statistic, p_value = stats.ttest_1samp(fico_scores, reference_value)\n",
        "\n",
        "# Mức ý nghĩa\n",
        "alpha = 0.05  # 5%\n",
        "\n",
        "# Kiểm tra mức ý nghĩa\n",
        "if p_value < alpha:\n",
        "    print(f\"Phát biểu sai ở mức ý nghĩa {alpha}\")\n",
        "else:\n",
        "    print(f\"Phát biểu đúng ở mức ý nghĩa {alpha}\")\n"
      ]
    },
    {
      "cell_type": "markdown",
      "metadata": {
        "id": "TFAK0uAVHkWR"
      },
      "source": [
        "---"
      ]
    }
  ],
  "metadata": {
    "kernelspec": {
      "display_name": "Python 3 (ipykernel)",
      "language": "python",
      "name": "python3"
    },
    "language_info": {
      "codemirror_mode": {
        "name": "ipython",
        "version": 3
      },
      "file_extension": ".py",
      "mimetype": "text/x-python",
      "name": "python",
      "nbconvert_exporter": "python",
      "pygments_lexer": "ipython3",
      "version": "3.9.7"
    },
    "colab": {
      "provenance": []
    }
  },
  "nbformat": 4,
  "nbformat_minor": 0
}